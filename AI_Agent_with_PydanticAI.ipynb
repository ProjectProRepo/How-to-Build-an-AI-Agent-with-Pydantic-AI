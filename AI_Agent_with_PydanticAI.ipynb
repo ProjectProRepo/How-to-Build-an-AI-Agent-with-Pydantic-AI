{
  "nbformat": 4,
  "nbformat_minor": 0,
  "metadata": {
    "colab": {
      "provenance": [],
      "authorship_tag": "ABX9TyPfrE7bOeiJhQxJegCemsYe"
    },
    "kernelspec": {
      "name": "python3",
      "display_name": "Python 3"
    },
    "language_info": {
      "name": "python"
    }
  },
  "cells": [
    {
      "cell_type": "markdown",
      "source": [
        "#Pydantic Example: Creating a Simple Custom Class\n",
        "\n"
      ],
      "metadata": {
        "id": "lZna_8biMxck"
      }
    },
    {
      "cell_type": "code",
      "execution_count": null,
      "metadata": {
        "id": "XEMMP6J1L1e_"
      },
      "outputs": [],
      "source": [
        "from datetime import datetime\n",
        "\n",
        "from pydantic import BaseModel, PositiveInt\n",
        "\n",
        "class User(BaseModel):\n",
        "\n",
        "    id: int\n",
        "\n",
        "    name: str = 'John Doe'\n",
        "\n",
        "    signup_ts: datetime | None\n",
        "\n",
        "    tastes: dict[str, PositiveInt]\n",
        "\n",
        "external_data = {\n",
        "\n",
        "    'id': 123,\n",
        "\n",
        "    'signup_ts': '2019-06-01 12:22',\n",
        "\n",
        "    'tastes': {\n",
        "\n",
        "        'wine': 9,\n",
        "\n",
        "        b'cheese': 7,\n",
        "\n",
        "        'cabbage': '1',\n",
        "\n",
        "    },\n",
        "\n",
        "}\n",
        "\n",
        "user = User(**external_data)\n",
        "\n",
        "print(user.id)\n",
        "\n",
        "#> 123\n",
        "\n",
        "print(user.model_dump())\n",
        "\n",
        "\"\"\"\n",
        "\n",
        "{\n",
        "\n",
        "    'id': 123,\n",
        "\n",
        "    'name': 'John Doe',\n",
        "\n",
        "    'signup_ts': datetime.datetime(2019, 6, 1, 12, 22),\n",
        "\n",
        "    'tastes': {'wine': 9, 'cheese': 7, 'cabbage': 1},\n",
        "\n",
        "}\n",
        "\n",
        "\"\"\""
      ]
    },
    {
      "cell_type": "code",
      "source": [
        "# continuing the above example...\n",
        "\n",
        "from datetime import datetime\n",
        "\n",
        "from pydantic import BaseModel, PositiveInt, ValidationError\n",
        "\n",
        "class User(BaseModel):\n",
        "\n",
        "    id: int\n",
        "\n",
        "    name: str = 'John Doe'\n",
        "\n",
        "    signup_ts: datetime | None\n",
        "\n",
        "    tastes: dict[str, PositiveInt]\n",
        "\n",
        "external_data = {'id': 'not an int', 'tastes': {}}\n",
        "\n",
        "try:\n",
        "\n",
        "    User(**external_data)\n",
        "\n",
        "except ValidationError as e:\n",
        "\n",
        "    print(e.errors())\n",
        "\n",
        "    \"\"\"\n",
        "\n",
        "    [\n",
        "\n",
        "        {\n",
        "\n",
        "            'type': 'int_parsing',\n",
        "\n",
        "            'loc': ('id',),\n",
        "\n",
        "            'msg': 'Input should be a valid integer, unable to parse string as an integer',\n",
        "\n",
        "            'input': 'not an int',\n",
        "\n",
        "            'url': 'https://errors.pydantic.dev/2/v/int_parsing',\n",
        "\n",
        "        },\n",
        "\n",
        "        {\n",
        "\n",
        "            'type': 'missing',\n",
        "\n",
        "            'loc': ('signup_ts',),\n",
        "\n",
        "            'msg': 'Field required',\n",
        "\n",
        "            'input': {'id': 'not an int', 'tastes': {}},\n",
        "\n",
        "            'url': 'https://errors.pydantic.dev/2/v/missing',\n",
        "\n",
        "        },\n",
        "\n",
        "    ]\n",
        "\n",
        "    \"\"\""
      ],
      "metadata": {
        "id": "4HM5OWxBL5uo"
      },
      "execution_count": null,
      "outputs": []
    },
    {
      "cell_type": "markdown",
      "source": [
        "#How to Build an Agent Using PydanticAI?"
      ],
      "metadata": {
        "id": "vkKvrlIbM3ke"
      }
    },
    {
      "cell_type": "code",
      "source": [
        "pip install pydantic-ai pydantic"
      ],
      "metadata": {
        "id": "_u-m1HPcMAA8"
      },
      "execution_count": null,
      "outputs": []
    },
    {
      "cell_type": "code",
      "source": [
        "from dataclasses import dataclass\n",
        "\n",
        "from bank_database import DatabaseConn  # Custom database connection\n",
        "\n",
        "@dataclass\n",
        "\n",
        "class SupportDependencies:\n",
        "\n",
        "    customer_id: int\n",
        "\n",
        "    db: DatabaseConn"
      ],
      "metadata": {
        "id": "9gpqTQw9MEU9"
      },
      "execution_count": null,
      "outputs": []
    },
    {
      "cell_type": "code",
      "source": [
        "from pydantic import BaseModel, Field\n",
        "\n",
        "class SupportResult(BaseModel):\n",
        "\n",
        "    support_advice: str = Field(description=\"Advice returned to the customer\")\n",
        "\n",
        "    block_card: bool = Field(description=\"Whether to block the customer's card\")\n",
        "\n",
        "    risk: int = Field(description=\"Risk level of query\", ge=0, le=10)"
      ],
      "metadata": {
        "id": "YFn_m6HvMGbE"
      },
      "execution_count": null,
      "outputs": []
    },
    {
      "cell_type": "code",
      "source": [
        "from pydantic_ai import Agent\n",
        "\n",
        "support_agent = Agent(\n",
        "\n",
        "    'openai:gpt-4o',  # Specify the AI model\n",
        "\n",
        "    deps_type=SupportDependencies,\n",
        "\n",
        "    result_type=SupportResult,\n",
        "\n",
        "    system_prompt=(\n",
        "\n",
        "        \"You are a support agent in our bank, give the customer support \"\n",
        "\n",
        "        \"and judge the risk level of their query.\"\n",
        "\n",
        "    ),\n",
        "\n",
        ")"
      ],
      "metadata": {
        "id": "jS_Jx9TiMIRC"
      },
      "execution_count": null,
      "outputs": []
    },
    {
      "cell_type": "code",
      "source": [
        "from pydantic_ai import RunContext\n",
        "\n",
        "@support_agent.system_prompt\n",
        "\n",
        "async def add_customer_name(ctx: RunContext[SupportDependencies]) -> str:\n",
        "\n",
        "    customer_name = await ctx.deps.db.customer_name(id=ctx.deps.customer_id)\n",
        "\n",
        "    return f\"The customer's name is {customer_name!r}\""
      ],
      "metadata": {
        "id": "8Ft6XHchMKG-"
      },
      "execution_count": null,
      "outputs": []
    },
    {
      "cell_type": "code",
      "source": [
        "@support_agent.tool\n",
        "\n",
        "async def customer_balance(ctx: RunContext[SupportDependencies], include_pending: bool) -> float:\n",
        "\n",
        "    \"\"\"Returns the customer's current account balance.\"\"\"\n",
        "\n",
        "    return await ctx.deps.db.customer_balance(\n",
        "\n",
        "        id=ctx.deps.customer_id,\n",
        "\n",
        "        include_pending=include_pending,\n",
        "\n",
        "    )"
      ],
      "metadata": {
        "id": "xsxZds8IML0S"
      },
      "execution_count": null,
      "outputs": []
    },
    {
      "cell_type": "code",
      "source": [
        "async def main():\n",
        "\n",
        "    deps = SupportDependencies(customer_id=123, db=DatabaseConn())\n",
        "\n",
        "    # Query about account balance\n",
        "\n",
        "    result = await support_agent.run(\"What is my balance?\", deps=deps)\n",
        "\n",
        "    print(result.data)\n",
        "\n",
        "    # Output:\n",
        "\n",
        "    # support_advice='Hello John, your current account balance, including pending transactions, is $123.45.'\n",
        "\n",
        "    # block_card=False risk=1\n",
        "\n",
        "    # Query about lost card\n",
        "\n",
        "    result = await support_agent.run(\"I just lost my card!\", deps=deps)\n",
        "\n",
        "    print(result.data)\n",
        "\n",
        "    # Output:\n",
        "\n",
        "    # support_advice=\"I'm sorry to hear that, John. We are temporarily blocking your card to prevent unauthorized transactions.\"\n",
        "\n",
        "    # block_card=True risk=8"
      ],
      "metadata": {
        "id": "QM_-V6PGMNwn"
      },
      "execution_count": null,
      "outputs": []
    }
  ]
}